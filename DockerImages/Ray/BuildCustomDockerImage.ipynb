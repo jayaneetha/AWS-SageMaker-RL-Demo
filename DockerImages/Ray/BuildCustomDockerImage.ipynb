{
 "cells": [
  {
   "cell_type": "markdown",
   "id": "f96f0e2f",
   "metadata": {},
   "source": [
    "# Build custom Docker image\n",
    "Build custom docker image to train RL - Ray Toolkit for SageMaker RL"
   ]
  },
  {
   "cell_type": "code",
   "execution_count": null,
   "id": "24ee66b2",
   "metadata": {},
   "outputs": [],
   "source": [
    "import boto3\n",
    "from docker_utils import build_and_push_docker_image"
   ]
  },
  {
   "cell_type": "code",
   "execution_count": null,
   "outputs": [],
   "source": [
    "repository_short_name = \"sagemaker-rl-ray-container:ray-1.6.0-gym-box2d-tf-cpu-py37\"\n",
    "print('repository_short_name is : {}'.format(repository_short_name))"
   ],
   "metadata": {
    "collapsed": false
   }
  },
  {
   "cell_type": "code",
   "execution_count": null,
   "id": "897eb951",
   "metadata": {},
   "outputs": [],
   "source": [
    "aws_region = boto3.Session().region_name"
   ]
  },
  {
   "cell_type": "code",
   "execution_count": null,
   "id": "cae6d35d",
   "metadata": {},
   "outputs": [],
   "source": [
    "docker_build_args = {\n",
    "    'AWS_REGION': aws_region\n",
    "}\n",
    "custom_image_name = build_and_push_docker_image(repository_short_name, build_args=docker_build_args)\n",
    "print(\"Using ECR image %s\" % custom_image_name)"
   ]
  }
 ],
 "metadata": {
  "kernelspec": {
   "name": "python3",
   "language": "python",
   "display_name": "Python 3 (ipykernel)"
  },
  "language_info": {
   "codemirror_mode": {
    "name": "ipython",
    "version": 3
   },
   "file_extension": ".py",
   "mimetype": "text/x-python",
   "name": "python",
   "nbconvert_exporter": "python",
   "pygments_lexer": "ipython3",
   "version": "3.6.13"
  }
 },
 "nbformat": 4,
 "nbformat_minor": 5
}
