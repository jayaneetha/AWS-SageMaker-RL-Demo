{
 "cells": [
  {
   "cell_type": "markdown",
   "id": "84018bbc",
   "metadata": {},
   "source": [
    "### Import the packages"
   ]
  },
  {
   "cell_type": "code",
   "execution_count": null,
   "id": "ed260627",
   "metadata": {},
   "outputs": [],
   "source": [
    "import sagemaker\n",
    "import sys\n",
    "\n",
    "sys.path.append(\"src\")\n",
    "from misc import get_execution_role, wait_for_s3_object\n",
    "from sagemaker.rl import RLEstimator, RLToolkit, RLFramework"
   ]
  },
  {
   "cell_type": "markdown",
   "id": "d0ffdeb0",
   "metadata": {},
   "source": [
    "Get sagemaker Session and set the output bucket to store intermediate checkpoints and models"
   ]
  },
  {
   "cell_type": "code",
   "execution_count": null,
   "id": "18bafded",
   "metadata": {},
   "outputs": [],
   "source": [
    "sage_session = sagemaker.session.Session()\n",
    "s3_bucket=\"thejan-sagemaker-101\"\n",
    "s3_output_path = \"s3://{}/\".format(s3_bucket)\n",
    "print(\"S3 bucket path: {}\".format(s3_output_path))"
   ]
  },
  {
   "cell_type": "code",
   "execution_count": null,
   "id": "199740a7",
   "metadata": {},
   "outputs": [],
   "source": [
    "# create a descriptive job name\n",
    "job_name_prefix = \"rl-lunar-lander-ray\""
   ]
  },
  {
   "cell_type": "markdown",
   "id": "e116cdd7",
   "metadata": {},
   "source": [
    "Whether want to run the in the notebook instance or in a separate instance. "
   ]
  },
  {
   "cell_type": "code",
   "execution_count": null,
   "id": "02a1ac88",
   "metadata": {},
   "outputs": [],
   "source": [
    "instance_type = \"ml.m4.xlarge\""
   ]
  },
  {
   "cell_type": "code",
   "execution_count": null,
   "id": "f915f6ea",
   "metadata": {},
   "outputs": [],
   "source": [
    "train_instance_count = 1"
   ]
  },
  {
   "cell_type": "code",
   "execution_count": null,
   "id": "a9e5673d",
   "metadata": {},
   "outputs": [],
   "source": [
    "try:\n",
    "    role = sagemaker.get_execution_role()\n",
    "except:\n",
    "    role = get_execution_role()\n",
    "\n",
    "print(\"Using IAM role arn: {}\".format(role))"
   ]
  },
  {
   "cell_type": "markdown",
   "id": "3d43a7b7",
   "metadata": {},
   "source": [
    "### Schedule the training.\n",
    "Using a custom built docker image to train, since pre-build docker image `sagemaker-rl-tensorflow:coach0.11.1-cpu-py3` does not contain `gym[box2d]` packages."
   ]
  },
  {
   "cell_type": "code",
   "execution_count": null,
   "outputs": [],
   "source": [
    "training_image = \"673765577618.dkr.ecr.ap-southeast-2.amazonaws.com/sagemaker-rl-ray-container:ray-1.6.0-gym-box2d-tf-cpu-py37\""
   ],
   "metadata": {
    "collapsed": false
   }
  },
  {
   "cell_type": "code",
   "execution_count": null,
   "id": "9506706a",
   "metadata": {},
   "outputs": [],
   "source": [
    "%%time\n",
    "\n",
    "metric_definitions = RLEstimator.default_metric_definitions(RLToolkit.RAY)\n",
    "\n",
    "estimator = RLEstimator(\n",
    "    entry_point=\"train-rl-lunarlander-ray.py\",\n",
    "    source_dir=\"src\",\n",
    "    dependencies=[\"src/sagemaker_rl\"],\n",
    "    role=role,\n",
    "    debugger_hook_config=False,\n",
    "    instance_type=instance_type,\n",
    "    instance_count=train_instance_count,\n",
    "    output_path=s3_output_path,\n",
    "    base_job_name=job_name_prefix,\n",
    "    metric_definitions=metric_definitions,\n",
    "    image_uri=training_image,\n",
    "    hyperparameters={\n",
    "        \"rl.training.config.dueling\": True\n",
    "    },\n",
    ")\n"
   ]
  },
  {
   "cell_type": "code",
   "execution_count": null,
   "outputs": [],
   "source": [
    "estimator.fit()\n",
    "job_name = estimator.latest_training_job.job_name\n",
    "print(\"Training job: %s\" % job_name)"
   ],
   "metadata": {
    "collapsed": false
   }
  },
  {
   "cell_type": "code",
   "execution_count": null,
   "id": "d7a6c2a4",
   "metadata": {},
   "outputs": [],
   "source": [
    "%matplotlib inline\n",
    "from sagemaker.analytics import TrainingJobAnalytics\n",
    "\n",
    "df = TrainingJobAnalytics(job_name, [\"episode_reward_mean\"]).dataframe()\n",
    "num_metrics = len(df)\n",
    "if num_metrics == 0:\n",
    "    print(\"No algorithm metrics found in CloudWatch\")\n",
    "else:\n",
    "    plt = df.plot(x=\"timestamp\", y=\"value\", figsize=(12, 5), legend=True, style=\"b-\")\n",
    "    plt.set_ylabel(\"Mean reward per episode\")\n",
    "    plt.set_xlabel(\"Training time (s)\")"
   ]
  },
  {
   "cell_type": "markdown",
   "source": [
    "## Parameter Tuning\n"
   ],
   "metadata": {
    "collapsed": false
   }
  },
  {
   "cell_type": "code",
   "execution_count": null,
   "outputs": [],
   "source": [
    "# Pick the total number of training jobs to run in this tuning job\n",
    "max_jobs = 5\n",
    "\n",
    "# How many jobs should run at a time.  Higher numbers here mean the tuning job runs much faster,\n",
    "# while lower numbers can sometimes get better results\n",
    "max_parallel_jobs = 5\n",
    "\n",
    "from sagemaker.tuner import (\n",
    "    IntegerParameter,\n",
    "    ContinuousParameter,\n",
    "    HyperparameterTuner,\n",
    ")\n",
    "\n",
    "# The hyperparameters we're going to tune\n",
    "hyperparameter_ranges = {\n",
    "    \"rl.training.config.num_sgd_iter\": IntegerParameter(3, 10),\n",
    "     \"rl.training.config.gamma\": ContinuousParameter(0.995, 1.0)\n",
    "}\n",
    "\n",
    "# The hyperparameters that are the same for all jobs\n",
    "static_hyperparameters = {\n",
    "    \"rl.training.stop.time_total_s\": 600,  # Tell each training job to stop after 10 minutes\n",
    "}"
   ],
   "metadata": {
    "collapsed": false
   }
  },
  {
   "cell_type": "code",
   "execution_count": null,
   "outputs": [],
   "source": [
    "tuner = HyperparameterTuner(\n",
    "    estimator,\n",
    "    objective_metric_name=\"episode_reward_mean\",\n",
    "    objective_type=\"Maximize\",\n",
    "    hyperparameter_ranges=hyperparameter_ranges,\n",
    "    metric_definitions=metric_definitions,\n",
    "    max_jobs=max_jobs,\n",
    "    max_parallel_jobs=max_parallel_jobs,\n",
    "    base_tuning_job_name=job_name_prefix,\n",
    ")\n",
    "tuner.fit(wait=False)"
   ],
   "metadata": {
    "collapsed": false
   }
  }
 ],
 "metadata": {
  "kernelspec": {
   "name": "python3",
   "language": "python",
   "display_name": "Python 3 (ipykernel)"
  },
  "language_info": {
   "codemirror_mode": {
    "name": "ipython",
    "version": 3
   },
   "file_extension": ".py",
   "mimetype": "text/x-python",
   "name": "python",
   "nbconvert_exporter": "python",
   "pygments_lexer": "ipython3",
   "version": "3.8.12"
  },
  "vscode": {
   "interpreter": {
    "hash": "c65a3594d9fb665a432fd247fb59cbc0ea13b9aceb3d90df7248757b76b1dc19"
   }
  }
 },
 "nbformat": 4,
 "nbformat_minor": 5
}
